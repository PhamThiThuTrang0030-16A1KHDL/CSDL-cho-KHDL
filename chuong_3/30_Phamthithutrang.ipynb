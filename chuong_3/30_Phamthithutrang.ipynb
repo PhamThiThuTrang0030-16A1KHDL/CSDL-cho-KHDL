{
 "cells": [
  {
   "cell_type": "code",
   "execution_count": 1,
   "id": "783ca6c6",
   "metadata": {},
   "outputs": [],
   "source": [
    "import sqlite3\n",
    "import pandas as pd\n",
    "from scipy.stats import chi2_contingency"
   ]
  },
  {
   "cell_type": "code",
   "execution_count": 2,
   "id": "65b5336a",
   "metadata": {},
   "outputs": [],
   "source": [
    "conn = sqlite3.connect('chuong_3_trang.db')\n",
    "cursor =  conn.cursor()"
   ]
  },
  {
   "cell_type": "code",
   "execution_count": 3,
   "id": "dcc70c73",
   "metadata": {},
   "outputs": [],
   "source": [
    "cursor.execute('''\n",
    "            CREATE TABLE DATA(\n",
    "                ID integer primary key,\n",
    "                Num1 float,\n",
    "                Num2 float)\n",
    "''')\n",
    "\n",
    "cursor.execute(''' \n",
    "            insert into DATA values\n",
    "                (1,3.5,7.2),\n",
    "                (2, 5.1, 8.4),\n",
    "                (3, 7.8, 6.9),\n",
    "                (4, 9.0, 10.2),\n",
    "                (5, 11.3, 4.5),\n",
    "                (6, 13.7, 12.8)\n",
    "               ''')\n",
    "conn.commit()"
   ]
  },
  {
   "cell_type": "code",
   "execution_count": 4,
   "id": "b687590f",
   "metadata": {},
   "outputs": [
    {
     "name": "stdout",
     "output_type": "stream",
     "text": [
      "[(1, 3.5, 7.2), (2, 5.1, 8.4), (3, 7.8, 6.9), (4, 9.0, 10.2), (5, 11.3, 4.5), (6, 13.7, 12.8)]\n"
     ]
    }
   ],
   "source": [
    "cursor.execute(''' \n",
    "               select * from DATA\n",
    "               ''')\n",
    "result  = cursor.fetchall()\n",
    "print(result)"
   ]
  },
  {
   "cell_type": "markdown",
   "id": "94a45c35",
   "metadata": {},
   "source": [
    "bai1"
   ]
  },
  {
   "cell_type": "code",
   "execution_count": 5,
   "id": "104e6afb",
   "metadata": {},
   "outputs": [
    {
     "name": "stdout",
     "output_type": "stream",
     "text": [
      "Sự tương quan giữa a(num1) và b(num2) : R(a,b)=0.36331684731706154\n"
     ]
    }
   ],
   "source": [
    "\n",
    "cursor.execute('''\n",
    "        WITH metric AS (\n",
    "            select\n",
    "               count(*) AS n,\n",
    "               sum(Num1*Num2) AS sum_ab,\n",
    "               sum(Num1) AS sum_a,\n",
    "               sum(Num2) AS sum_b,\n",
    "               sum(Num1 * Num1) AS sum_a2,\n",
    "               sum(Num2 * Num2) AS sum_b2\n",
    "        from DATA)\n",
    "        select \n",
    "               (n * sum_ab-sum_a*sum_b)/\n",
    "               (sqrt(n*sum_a2- sum_a*sum_a)*sqrt(n*sum_b2-sum_b*sum_b)) AS R_AB\n",
    "               from metric\n",
    " ''')\n",
    "result  = cursor.fetchall()\n",
    "for i in result:\n",
    "    print(f'Sự tương quan giữa a(num1) và b(num2) : R(a,b)={i[0]}')"
   ]
  },
  {
   "cell_type": "markdown",
   "id": "d1bb96b3",
   "metadata": {},
   "source": [
    "bai 2"
   ]
  },
  {
   "cell_type": "code",
   "execution_count": 6,
   "id": "d01fd442",
   "metadata": {},
   "outputs": [
    {
     "data": {
      "text/plain": [
       "<sqlite3.Cursor at 0x244db13e740>"
      ]
     },
     "execution_count": 6,
     "metadata": {},
     "output_type": "execute_result"
    }
   ],
   "source": [
    "# Tạo bảng để lưu dữ liệu\n",
    "cursor.execute('''\n",
    "CREATE TABLE IF NOT EXISTS car_scores (\n",
    "    day_id integer,\n",
    "    model TEXT,\n",
    "    score float\n",
    ")\n",
    "''')"
   ]
  },
  {
   "cell_type": "code",
   "execution_count": 7,
   "id": "76971b7e",
   "metadata": {},
   "outputs": [],
   "source": [
    "data = [\n",
    "    (1, 'A', 8), (1, 'B', 9), (1, 'C', 7),\n",
    "    (2, 'A', 7.5), (2, 'B', 8.5), (2, 'C', 7),\n",
    "    (3, 'A', 6), (3, 'B', 7), (3, 'C', 8),\n",
    "    (4, 'A', 7), (4, 'B', 6), (4, 'C', 5)\n",
    "]\n",
    "\n",
    "# Thêm dữ liệu vào bảng\n",
    "cursor.executemany(\"INSERT INTO car_scores VALUES (?, ?, ?)\", data)\n",
    "conn.commit()"
   ]
  },
  {
   "cell_type": "code",
   "execution_count": 8,
   "id": "0ccecb22",
   "metadata": {},
   "outputs": [
    {
     "name": "stdout",
     "output_type": "stream",
     "text": [
      "Dữ liệu trong cơ sở dữ liệu:\n",
      "(1, 'A', 8.0)\n",
      "(1, 'B', 9.0)\n",
      "(1, 'C', 7.0)\n",
      "(2, 'A', 7.5)\n",
      "(2, 'B', 8.5)\n",
      "(2, 'C', 7.0)\n",
      "(3, 'A', 6.0)\n",
      "(3, 'B', 7.0)\n",
      "(3, 'C', 8.0)\n",
      "(4, 'A', 7.0)\n",
      "(4, 'B', 6.0)\n",
      "(4, 'C', 5.0)\n"
     ]
    }
   ],
   "source": [
    "cursor.execute(\"SELECT * FROM car_scores\")\n",
    "print(\"Dữ liệu trong cơ sở dữ liệu:\")\n",
    "for row in cursor.fetchall():\n",
    "    print(row)"
   ]
  },
  {
   "cell_type": "code",
   "execution_count": 9,
   "id": "b6b1feb5",
   "metadata": {},
   "outputs": [
    {
     "name": "stdout",
     "output_type": "stream",
     "text": [
      "\n",
      "Bảng dữ liệu:\n",
      "model     A    B    C\n",
      "day_id               \n",
      "1       8.0  9.0  7.0\n",
      "2       7.5  8.5  7.0\n",
      "3       6.0  7.0  8.0\n",
      "4       7.0  6.0  5.0\n"
     ]
    }
   ],
   "source": [
    "cursor.execute(\"\"\"\n",
    "SELECT model, day_id, score\n",
    "FROM car_scores\n",
    "ORDER BY model, day_id\n",
    "\"\"\")\n",
    "\n",
    "rows = cursor.fetchall()\n",
    "\n",
    "df = pd.DataFrame(rows, columns=['model', 'day_id', 'score'])\n",
    "\n",
    "# Chuyển dữ liệu về định dạng bảng \n",
    "pivot_table = df.pivot_table(index='day_id', columns='model', values='score')\n",
    "print(\"\\nBảng dữ liệu:\")\n",
    "print(pivot_table)"
   ]
  },
  {
   "cell_type": "code",
   "execution_count": 10,
   "id": "e63c4248",
   "metadata": {},
   "outputs": [
    {
     "name": "stdout",
     "output_type": "stream",
     "text": [
      "\n",
      "Bảng phân loại điểm theo ngày và mẫu xe:\n",
      "model            A           B           C\n",
      "day_id                                    \n",
      "1       Trung bình         Cao  Trung bình\n",
      "2       Trung bình         Cao  Trung bình\n",
      "3             Thấp  Trung bình  Trung bình\n",
      "4       Trung bình        Thấp        Thấp\n",
      "\n",
      "Bảng tần số quan sát:\n",
      "model             A              B                    C           \n",
      "score_category Thấp Trung bình Cao Thấp Trung bình Thấp Trung bình\n",
      "day_id                                                            \n",
      "1                 0          1   1    0          0    0          1\n",
      "2                 0          1   1    0          0    0          1\n",
      "3                 1          0   0    0          1    0          1\n",
      "4                 0          1   0    1          0    1          0\n"
     ]
    }
   ],
   "source": [
    "def categorize_score(score):\n",
    "    if score <= 6:\n",
    "        return 'Thấp'\n",
    "    elif score <= 8:\n",
    "        return 'Trung bình'\n",
    "    else:\n",
    "        return 'Cao'\n",
    "\n",
    "df['score_category'] = df['score'].apply(categorize_score)\n",
    "\n",
    "# Tạo bảng liên hệ \n",
    "contingency_table = pd.crosstab(df['day_id'], df['model'], \n",
    "                                values=df['score_category'], \n",
    "                                aggfunc=lambda x: ''.join(x))\n",
    "\n",
    "print(\"\\nBảng phân loại điểm theo ngày và mẫu xe:\")\n",
    "print(contingency_table)\n",
    "\n",
    "observed = pd.crosstab(df['day_id'], [df['model'], df['score_category']])\n",
    "print(\"\\nBảng tần số quan sát:\")\n",
    "print(observed)"
   ]
  },
  {
   "cell_type": "code",
   "execution_count": 11,
   "id": "4642e1c4",
   "metadata": {},
   "outputs": [
    {
     "name": "stdout",
     "output_type": "stream",
     "text": [
      "\n",
      "Kết quả kiểm định chi-square:\n",
      "Chi-square statistic: 0.826439691310499\n",
      "p-value: 0.9913459315666546\n",
      "\n",
      "Bảng tần số kỳ vọng:\n",
      "model          A         B         C\n",
      "day_id                              \n",
      "1       7.953488  8.511628  7.534884\n",
      "2       7.622093  8.156977  7.220930\n",
      "3       6.959302  7.447674  6.593023\n",
      "4       5.965116  6.383721  5.651163\n",
      "\n",
      "==> Không có sự khác biệt đáng kể giữa các mẫu xe dựa trên điểm số (p-value = 0.9913 > 0.05)\n"
     ]
    }
   ],
   "source": [
    "contingency = pd.crosstab(df['day_id'], df['model'], values=df['score'], aggfunc='mean')\n",
    "chi2, p, dof, expected = chi2_contingency(contingency)\n",
    "\n",
    "print(\"\\nKết quả kiểm định chi-square:\")\n",
    "print(f\"Chi-square statistic: {chi2}\")\n",
    "print(f\"p-value: {p}\")\n",
    "print(\"\\nBảng tần số kỳ vọng:\")\n",
    "print(pd.DataFrame(expected, index=contingency.index, columns=contingency.columns))\n",
    "\n",
    "alpha = 0.05\n",
    "if p < alpha:\n",
    "    print(f\"\\n==>  Có sự khác biệt đáng kể giữa các mẫu xe dựa trên điểm số (p-value = {p:.4f} < {alpha})\")\n",
    "else:\n",
    "    print(f\"\\n==> Không có sự khác biệt đáng kể giữa các mẫu xe dựa trên điểm số (p-value = {p:.4f} > {alpha})\")\n"
   ]
  },
  {
   "cell_type": "markdown",
   "id": "a945172f",
   "metadata": {},
   "source": [
    "bai 3"
   ]
  },
  {
   "cell_type": "code",
   "execution_count": 12,
   "id": "69b24c4a",
   "metadata": {},
   "outputs": [
    {
     "data": {
      "text/plain": [
       "<sqlite3.Cursor at 0x244db13e740>"
      ]
     },
     "execution_count": 12,
     "metadata": {},
     "output_type": "execute_result"
    }
   ],
   "source": [
    "cursor.execute(\"\"\"\n",
    "CREATE TABLE flights (\n",
    "    id integer primary key,\n",
    "    departure_time integer\n",
    ")\n",
    "\"\"\")"
   ]
  },
  {
   "cell_type": "code",
   "execution_count": 13,
   "id": "814b0fd6",
   "metadata": {},
   "outputs": [],
   "source": [
    "test_data = [\n",
    "    (1, 730),\n",
    "    (2, 1234),\n",
    "    (3, 45),    \n",
    "    (4, 2100),  \n",
    "    (5, 2345),  \n",
    "    (6, 59)   \n",
    "]\n",
    "\n",
    "cursor.executemany(\"INSERT INTO flights (id, departure_time) VALUES (?, ?)\", test_data)\n",
    "conn.commit()\n"
   ]
  },
  {
   "cell_type": "code",
   "execution_count": 14,
   "id": "92879a9f",
   "metadata": {},
   "outputs": [
    {
     "name": "stdout",
     "output_type": "stream",
     "text": [
      "(1, 730, '07:30')\n",
      "(2, 1234, '12:34')\n",
      "(3, 45, '00:45')\n",
      "(4, 2100, '21:00')\n",
      "(5, 2345, '23:45')\n",
      "(6, 59, '00:59')\n"
     ]
    }
   ],
   "source": [
    "cursor.execute('''SELECT \n",
    "    id,\n",
    "    departure_time,\n",
    "    printf('%02d:%02d', departure_time / 100, departure_time % 100) AS time\n",
    "FROM flights\n",
    "               ''')\n",
    "\n",
    "for i in cursor:\n",
    "    print(i)\n"
   ]
  },
  {
   "cell_type": "markdown",
   "id": "0844abae",
   "metadata": {},
   "source": [
    "bai 4:"
   ]
  },
  {
   "cell_type": "code",
   "execution_count": 15,
   "id": "76b4fac1",
   "metadata": {},
   "outputs": [
    {
     "data": {
      "text/plain": [
       "<sqlite3.Cursor at 0x244db13e740>"
      ]
     },
     "execution_count": 15,
     "metadata": {},
     "output_type": "execute_result"
    }
   ],
   "source": [
    "cursor.execute('''CREATE TABLE data_2(\n",
    "               gia_tri float\n",
    "               )''')\n"
   ]
  },
  {
   "cell_type": "code",
   "execution_count": 16,
   "id": "463f8674",
   "metadata": {},
   "outputs": [],
   "source": [
    "values = [(14,), (5,), (7,), (8,), (-2,), (111,), (10,), (11,), (13,), (5,), (199,)]\n",
    "cursor.executemany(\"INSERT INTO data_2(gia_tri) VALUES (?)\", values)\n",
    "conn.commit()"
   ]
  },
  {
   "cell_type": "code",
   "execution_count": 17,
   "id": "ebb9609f",
   "metadata": {},
   "outputs": [
    {
     "name": "stdout",
     "output_type": "stream",
     "text": [
      "Median = 10.0\n",
      "MAD = 4.0\n",
      "Ngưỡng ngoại lệ (1.5×MAD): ±6.0\n",
      "Giá trị ngoại lệ: [-2.0, 111.0, 199.0]\n"
     ]
    }
   ],
   "source": [
    "cursor.execute(\"\"\"\n",
    "SELECT gia_tri FROM data_2\n",
    "ORDER BY gia_tri\n",
    "\"\"\")\n",
    "vals = [row[0] for row in cursor.fetchall()]\n",
    "n = len(vals)\n",
    "median = (vals[n // 2] if n % 2 == 1 else (vals[n // 2 - 1] + vals[n // 2]) / 2)\n",
    "\n",
    "# 4. Tính |xi - median|\n",
    "abs_devs = [abs(v - median) for v in vals]\n",
    "abs_devs.sort()\n",
    "mad = (abs_devs[n // 2] if n % 2 == 1 else (abs_devs[n // 2 - 1] + abs_devs[n // 2]) / 2)\n",
    "\n",
    "# ngoại lệ (vượt 1.5 × MAD)\n",
    "threshold = 1.5 * mad\n",
    "outliers = [v for v in vals if abs(v - median) > threshold]\n",
    "\n",
    "print(f\"Median = {median}\")\n",
    "print(f\"MAD = {mad}\")\n",
    "print(f\"Ngưỡng ngoại lệ (1.5×MAD): ±{threshold}\")\n",
    "print(\"Giá trị ngoại lệ:\", outliers)"
   ]
  },
  {
   "cell_type": "markdown",
   "id": "33c8ad19",
   "metadata": {},
   "source": [
    "bai 5\n"
   ]
  },
  {
   "cell_type": "code",
   "execution_count": 18,
   "id": "f5a691c0",
   "metadata": {},
   "outputs": [
    {
     "data": {
      "text/plain": [
       "<sqlite3.Cursor at 0x244db13e740>"
      ]
     },
     "execution_count": 18,
     "metadata": {},
     "output_type": "execute_result"
    }
   ],
   "source": [
    "#  tao bang\n",
    "cursor.execute(\"\"\"\n",
    "CREATE TABLE Patient (\n",
    "    id integer primary key,\n",
    "    last_name TEXT,\n",
    "    height float,\n",
    "    weight float\n",
    ")\n",
    "\"\"\")"
   ]
  },
  {
   "cell_type": "code",
   "execution_count": 19,
   "id": "f46188ac",
   "metadata": {},
   "outputs": [],
   "source": [
    "#  chen du lieu\n",
    "patients = [\n",
    "    (1, 'hoang',  170,49),\n",
    "    (2, 'van',  181,60),   \n",
    "    (3, 'dang',  155,51),\n",
    "    (4, 'hoang',  170,49)\n",
    "]\n",
    "\n",
    "cursor.executemany(\"INSERT INTO Patient VALUES (?, ?, ?, ?)\", patients)\n",
    "conn.commit()\n"
   ]
  },
  {
   "cell_type": "code",
   "execution_count": 20,
   "id": "c418afbd",
   "metadata": {},
   "outputs": [
    {
     "name": "stdout",
     "output_type": "stream",
     "text": [
      "('hoang', 'van', 49.0, 60.0, 'khác người')\n",
      "('hoang', 'dang', 49.0, 51.0, 'khác người')\n",
      "('hoang', 'hoang', 49.0, 49.0, 'cùng người')\n",
      "('van', 'dang', 60.0, 51.0, 'khác người')\n",
      "('van', 'hoang', 60.0, 49.0, 'khác người')\n",
      "('dang', 'hoang', 51.0, 49.0, 'khác người')\n"
     ]
    }
   ],
   "source": [
    "cursor.execute(\"\"\"\n",
    "SELECT \n",
    "    p1.last_name AS person1, \n",
    "    p2.last_name AS person2,\n",
    "    p1.weight AS weight1, \n",
    "    p2.weight AS weight2,\n",
    "    CASE \n",
    "        WHEN p1.last_name = p2.last_name AND p1.weight = p2.weight \n",
    "        THEN 'cùng người' \n",
    "        ELSE 'khác người' \n",
    "    END AS match_status\n",
    "FROM Patient p1, Patient p2\n",
    "WHERE p1.id < p2.id;\n",
    "\"\"\")\n",
    "for i in cursor:\n",
    "    print(i)"
   ]
  }
 ],
 "metadata": {
  "kernelspec": {
   "display_name": "Python 3",
   "language": "python",
   "name": "python3"
  },
  "language_info": {
   "codemirror_mode": {
    "name": "ipython",
    "version": 3
   },
   "file_extension": ".py",
   "mimetype": "text/x-python",
   "name": "python",
   "nbconvert_exporter": "python",
   "pygments_lexer": "ipython3",
   "version": "3.11.0"
  }
 },
 "nbformat": 4,
 "nbformat_minor": 5
}
